{
 "cells": [
  {
   "cell_type": "code",
   "execution_count": 2,
   "id": "4dbf9d28-22dd-4795-acd1-84ad873bb506",
   "metadata": {
    "tags": []
   },
   "outputs": [
    {
     "name": "stdout",
     "output_type": "stream",
     "text": [
      "Wrong words : ['Machne', 'Learnin']\n",
      "Corrected Words are :\n",
      "Machine Learning "
     ]
    }
   ],
   "source": [
    "from textblob import TextBlob\n",
    "words = [\"Machne\", \"Learnin\"]\n",
    "corrected_words = []\n",
    "for i in words:\n",
    "    corrected_words.append(TextBlob(i))\n",
    "print(\"Wrong words :\", words)\n",
    "print(\"Corrected Words are :\")\n",
    "for i in corrected_words:\n",
    "    print(i.correct(), end=\" \")"
   ]
  }
 ],
 "metadata": {
  "kernelspec": {
   "display_name": "Python 3 (ipykernel)",
   "language": "python",
   "name": "python3"
  },
  "language_info": {
   "codemirror_mode": {
    "name": "ipython",
    "version": 3
   },
   "file_extension": ".py",
   "mimetype": "text/x-python",
   "name": "python",
   "nbconvert_exporter": "python",
   "pygments_lexer": "ipython3",
   "version": "3.8.16"
  }
 },
 "nbformat": 4,
 "nbformat_minor": 5
}
